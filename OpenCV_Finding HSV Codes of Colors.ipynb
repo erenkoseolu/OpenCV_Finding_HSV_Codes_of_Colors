{
 "cells": [
  {
   "cell_type": "code",
   "execution_count": 1,
   "metadata": {},
   "outputs": [],
   "source": [
    "import cv2\n",
    "import numpy as np"
   ]
  },
  {
   "cell_type": "code",
   "execution_count": null,
   "metadata": {},
   "outputs": [],
   "source": [
    "cap=cv2.VideoCapture(0)\n",
    "\n",
    "def nothing(x):\n",
    "    pass\n",
    "\n",
    "cv2.namedWindow(\"TrackBar\")\n",
    "cv2.resizeWindow(\"TrackBar\", (500,500))\n",
    "\n",
    "cv2.createTrackbar(\"Lower - H\", \"TrackBar\", 0, 180, nothing)\n",
    "cv2.createTrackbar(\"Lower - S\", \"TrackBar\", 0, 255, nothing)\n",
    "cv2.createTrackbar(\"Lower - V\", \"TrackBar\", 0, 255, nothing)\n",
    "\n",
    "cv2.createTrackbar(\"Upper - H\", \"TrackBar\", 0, 180, nothing)\n",
    "cv2.createTrackbar(\"Upper - S\", \"TrackBar\", 0, 255, nothing)\n",
    "cv2.createTrackbar(\"Upper - V\", \"TrackBar\", 0, 255, nothing)\n",
    "\n",
    "cv2.setTrackbarPos(\"Upper - H\", \"TrackBar\",180)\n",
    "cv2.setTrackbarPos(\"Upper - S\", \"TrackBar\",255)\n",
    "cv2.setTrackbarPos(\"Upper - V\", \"TrackBar\",255)\n",
    "\n",
    "while True:\n",
    "    ret, frame = cap.read()#kameradan aldığımız görüntüleri tek tek okuyoruz.\n",
    "    frame=cv2.flip(frame,1)#Aynada gördüğümüz gibi görmek için görüntüyü çevirdik.\n",
    "    frame_hsv=cv2.cvtColor(frame, cv2.COLOR_BGR2HSV)#Frameleri HSV'ye çevirdik.\n",
    "\n",
    "#Tek tek trackbar'daki pozisyonları alalım.\n",
    "    lower_h=cv2.getTrackbarPos(\"Lower - H\", \"TrackBar\")\n",
    "    lower_s=cv2.getTrackbarPos(\"Lower - S\", \"TrackBar\")\n",
    "    lower_v=cv2.getTrackbarPos(\"Lower - V\", \"TrackBar\")\n",
    "    \n",
    "    upper_h=cv2.getTrackbarPos(\"Upper - H\", \"TrackBar\")\n",
    "    upper_s=cv2.getTrackbarPos(\"Upper - S\", \"TrackBar\")\n",
    "    upper_v=cv2.getTrackbarPos(\"Upper - V\", \"TrackBar\")\n",
    "    \n",
    "    upper_color=np.array([upper_h, upper_s, upper_v])\n",
    "    lower_color=np.array([lower_h, lower_s, lower_v])\n",
    "    \n",
    "    mask=cv2.inRange(frame_hsv, lower_color, upper_color)\n",
    "    \n",
    "    cv2.imshow(\"Orjinal\", frame)\n",
    "    cv2.imshow(\"HSV\", mask) #Mask uyguladığımız görüntü\n",
    "    \n",
    "    if cv2.waitKey(10)& 0xFF==ord(\"q\"):\n",
    "        break\n",
    "    \n",
    "cap.release()\n",
    "cv2.destroyAllWindows()"
   ]
  },
  {
   "cell_type": "code",
   "execution_count": null,
   "metadata": {},
   "outputs": [],
   "source": []
  },
  {
   "cell_type": "code",
   "execution_count": null,
   "metadata": {},
   "outputs": [],
   "source": []
  }
 ],
 "metadata": {
  "kernelspec": {
   "display_name": "Python 3",
   "language": "python",
   "name": "python3"
  },
  "language_info": {
   "codemirror_mode": {
    "name": "ipython",
    "version": 3
   },
   "file_extension": ".py",
   "mimetype": "text/x-python",
   "name": "python",
   "nbconvert_exporter": "python",
   "pygments_lexer": "ipython3",
   "version": "3.6.10"
  }
 },
 "nbformat": 4,
 "nbformat_minor": 2
}
